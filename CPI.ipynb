{
  "nbformat": 4,
  "nbformat_minor": 0,
  "metadata": {
    "colab": {
      "name": "CPI.ipynb",
      "provenance": [],
      "toc_visible": true
    },
    "kernelspec": {
      "name": "python3",
      "display_name": "Python 3"
    },
    "language_info": {
      "name": "python"
    }
  },
  "cells": [
    {
      "cell_type": "markdown",
      "metadata": {
        "id": "HTV0O8BtTaQQ"
      },
      "source": [
        "Extra para mi"
      ]
    },
    {
      "cell_type": "code",
      "metadata": {
        "id": "X4G7d7ncTZo_"
      },
      "source": [
        "v.iloc[j].values[0]"
      ],
      "execution_count": null,
      "outputs": []
    },
    {
      "cell_type": "markdown",
      "metadata": {
        "id": "2bxqmto-hs3K"
      },
      "source": [
        "# Clear to database"
      ]
    },
    {
      "cell_type": "markdown",
      "metadata": {
        "id": "uN9o-mBrgZa9"
      },
      "source": [
        "# Run Packages"
      ]
    },
    {
      "cell_type": "code",
      "metadata": {
        "id": "7WLoLDq1duSD"
      },
      "source": [
        "import pandas as pd\n",
        "import numpy as np"
      ],
      "execution_count": 2,
      "outputs": []
    },
    {
      "cell_type": "markdown",
      "metadata": {
        "id": "nN4tgLbygek0"
      },
      "source": [
        "# Run database \"Consumer Price Index\""
      ]
    },
    {
      "cell_type": "code",
      "metadata": {
        "id": "zB50luLaLLpm"
      },
      "source": [
        "df = pd.read_csv(\"/content/Consumer Price Index.csv\")"
      ],
      "execution_count": null,
      "outputs": []
    },
    {
      "cell_type": "code",
      "metadata": {
        "id": "fAQjRIZnfrBL"
      },
      "source": [
        "df.tail(100)"
      ],
      "execution_count": null,
      "outputs": []
    },
    {
      "cell_type": "markdown",
      "metadata": {
        "id": "VlPIC_JcgtRv"
      },
      "source": [
        "# Run database \"Monthly adjusted consumer expenditure basket weights\""
      ]
    },
    {
      "cell_type": "code",
      "metadata": {
        "id": "M1mb_kzonf3F"
      },
      "source": [
        "df3= pd.read_csv(\"/content/Monthly adjusted consumer expenditure basket weights.csv\")"
      ],
      "execution_count": null,
      "outputs": []
    },
    {
      "cell_type": "code",
      "metadata": {
        "colab": {
          "base_uri": "https://localhost:8080/"
        },
        "id": "ewU5jkw3pStP",
        "outputId": "1a564572-f8e5-47fd-c434-1799c754d9c7"
      },
      "source": [
        "df3['REF_DATE'].value_counts()"
      ],
      "execution_count": null,
      "outputs": [
        {
          "output_type": "execute_result",
          "data": {
            "text/plain": [
              "2021-01    122\n",
              "2020-03    122\n",
              "2020-10    122\n",
              "2020-04    122\n",
              "2020-11    122\n",
              "2020-09    122\n",
              "2020-07    122\n",
              "2020-08    122\n",
              "2020-05    122\n",
              "2020-12    122\n",
              "2020-02    122\n",
              "2020-06    122\n",
              "Name: REF_DATE, dtype: int64"
            ]
          },
          "metadata": {},
          "execution_count": 15
        }
      ]
    },
    {
      "cell_type": "code",
      "metadata": {
        "colab": {
          "base_uri": "https://localhost:8080/"
        },
        "id": "PFcpmu06nljF",
        "outputId": "2e17542e-9c54-4563-ce41-793bd745d682"
      },
      "source": [
        "len(df3[\"REF_DATE\"])"
      ],
      "execution_count": null,
      "outputs": [
        {
          "output_type": "execute_result",
          "data": {
            "text/plain": [
              "1464"
            ]
          },
          "metadata": {},
          "execution_count": 20
        }
      ]
    },
    {
      "cell_type": "markdown",
      "metadata": {
        "id": "afWoieqBhDuV"
      },
      "source": [
        "# Run database \"Monthly adjusted price index\""
      ]
    },
    {
      "cell_type": "code",
      "metadata": {
        "id": "oVHKcipEjZw0",
        "colab": {
          "base_uri": "https://localhost:8080/"
        },
        "outputId": "f29f584f-919e-4f9f-b68b-ad61792c24cd"
      },
      "source": [
        "df2= pd.read_csv(\"/content/Monthly adjusted price index.csv\")"
      ],
      "execution_count": 3,
      "outputs": [
        {
          "output_type": "stream",
          "name": "stderr",
          "text": [
            "/usr/local/lib/python3.7/dist-packages/IPython/core/interactiveshell.py:2718: DtypeWarning: Columns (11) have mixed types.Specify dtype option on import or set low_memory=False.\n",
            "  interactivity=interactivity, compiler=compiler, result=result)\n"
          ]
        }
      ]
    },
    {
      "cell_type": "code",
      "metadata": {
        "id": "XB4NO9E9hcnG"
      },
      "source": [
        "df2.head(100)"
      ],
      "execution_count": null,
      "outputs": []
    },
    {
      "cell_type": "markdown",
      "metadata": {
        "id": "IuvK9dB2hjlQ"
      },
      "source": [
        "## firsr filter"
      ]
    },
    {
      "cell_type": "code",
      "metadata": {
        "id": "oI8oMpUdkQWw"
      },
      "source": [
        "new_df2 = df2[((df2['REF_DATE'].str.contains(\"2018\", case=False)) | (df2['REF_DATE'].str.contains(\"2019\", case=False)) | (df2['REF_DATE'].str.contains(\"2020\", case=False)) | (df2['REF_DATE'].str.contains(\"2021\", case=False)))]"
      ],
      "execution_count": 4,
      "outputs": []
    },
    {
      "cell_type": "code",
      "metadata": {
        "id": "CBh7-i2AkAqE"
      },
      "source": [
        "new_df2['REF_DATE'].value_counts()"
      ],
      "execution_count": null,
      "outputs": []
    },
    {
      "cell_type": "markdown",
      "metadata": {
        "id": "B2n_k8wRiDkz"
      },
      "source": [
        "## Second filter"
      ]
    },
    {
      "cell_type": "code",
      "metadata": {
        "id": "tMZkhIF7ekND"
      },
      "source": [
        "new2_df2 = new_df2[(new_df2['GEO'].str.contains(\"Can\", case=False))]"
      ],
      "execution_count": 5,
      "outputs": []
    },
    {
      "cell_type": "code",
      "metadata": {
        "id": "zpXy1SNeL4Y1"
      },
      "source": [
        "new2_df2['GEO'].value_counts()"
      ],
      "execution_count": null,
      "outputs": []
    },
    {
      "cell_type": "markdown",
      "metadata": {
        "id": "rrtIeU3nw-Fk"
      },
      "source": [
        "## third filter (adjustment)"
      ]
    },
    {
      "cell_type": "code",
      "metadata": {
        "id": "zJb9cyMDaRJ5"
      },
      "source": [
        "new2_df2.head()"
      ],
      "execution_count": null,
      "outputs": []
    },
    {
      "cell_type": "code",
      "metadata": {
        "id": "0ZlpxglzfU1r"
      },
      "source": [
        "(new2_df2['REF_DATE'].value_counts()).sort_index(level=0)\n",
        "\n",
        "#n3=pd.DataFrame(new2_df2['REF_DATE'].value_counts())\n",
        "#n3=n3.reset_index()\n",
        "#n3.columns = ['Ref','#']\n",
        "#n3.sort_values('Ref')"
      ],
      "execution_count": null,
      "outputs": []
    },
    {
      "cell_type": "code",
      "metadata": {
        "colab": {
          "base_uri": "https://localhost:8080/",
          "height": 394
        },
        "id": "8tprn0HqvYJ4",
        "outputId": "2179e828-81ba-4a68-bc54-d4686896a442"
      },
      "source": [
        "n3 = new2_df2['REF_DATE'].str.split('-', expand=True)\n",
        "n3.columns = ['year', 'month']\n",
        "new3_df2 = pd.concat([n3,new2_df2], axis=1)\n",
        "new3_df2.head()"
      ],
      "execution_count": 6,
      "outputs": [
        {
          "output_type": "execute_result",
          "data": {
            "text/html": [
              "<div>\n",
              "<style scoped>\n",
              "    .dataframe tbody tr th:only-of-type {\n",
              "        vertical-align: middle;\n",
              "    }\n",
              "\n",
              "    .dataframe tbody tr th {\n",
              "        vertical-align: top;\n",
              "    }\n",
              "\n",
              "    .dataframe thead th {\n",
              "        text-align: right;\n",
              "    }\n",
              "</style>\n",
              "<table border=\"1\" class=\"dataframe\">\n",
              "  <thead>\n",
              "    <tr style=\"text-align: right;\">\n",
              "      <th></th>\n",
              "      <th>year</th>\n",
              "      <th>month</th>\n",
              "      <th>REF_DATE</th>\n",
              "      <th>GEO</th>\n",
              "      <th>DGUID</th>\n",
              "      <th>Products and product groups</th>\n",
              "      <th>UOM</th>\n",
              "      <th>UOM_ID</th>\n",
              "      <th>SCALAR_FACTOR</th>\n",
              "      <th>SCALAR_ID</th>\n",
              "      <th>VECTOR</th>\n",
              "      <th>COORDINATE</th>\n",
              "      <th>VALUE</th>\n",
              "      <th>STATUS</th>\n",
              "      <th>SYMBOL</th>\n",
              "      <th>TERMINATED</th>\n",
              "      <th>DECIMALS</th>\n",
              "    </tr>\n",
              "  </thead>\n",
              "  <tbody>\n",
              "    <tr>\n",
              "      <th>943782</th>\n",
              "      <td>2018</td>\n",
              "      <td>01</td>\n",
              "      <td>2018-01</td>\n",
              "      <td>Canada</td>\n",
              "      <td>2016A000011124</td>\n",
              "      <td>All-items</td>\n",
              "      <td>2002=100</td>\n",
              "      <td>17</td>\n",
              "      <td>units</td>\n",
              "      <td>0</td>\n",
              "      <td>v41690973</td>\n",
              "      <td>2.2</td>\n",
              "      <td>131.7</td>\n",
              "      <td>NaN</td>\n",
              "      <td>NaN</td>\n",
              "      <td>NaN</td>\n",
              "      <td>1</td>\n",
              "    </tr>\n",
              "    <tr>\n",
              "      <th>943783</th>\n",
              "      <td>2018</td>\n",
              "      <td>01</td>\n",
              "      <td>2018-01</td>\n",
              "      <td>Canada</td>\n",
              "      <td>2016A000011124</td>\n",
              "      <td>Food</td>\n",
              "      <td>2002=100</td>\n",
              "      <td>17</td>\n",
              "      <td>units</td>\n",
              "      <td>0</td>\n",
              "      <td>v41690974</td>\n",
              "      <td>2.3</td>\n",
              "      <td>144.7</td>\n",
              "      <td>NaN</td>\n",
              "      <td>NaN</td>\n",
              "      <td>NaN</td>\n",
              "      <td>1</td>\n",
              "    </tr>\n",
              "    <tr>\n",
              "      <th>943784</th>\n",
              "      <td>2018</td>\n",
              "      <td>01</td>\n",
              "      <td>2018-01</td>\n",
              "      <td>Canada</td>\n",
              "      <td>2016A000011124</td>\n",
              "      <td>Food purchased from stores</td>\n",
              "      <td>2002=100</td>\n",
              "      <td>17</td>\n",
              "      <td>units</td>\n",
              "      <td>0</td>\n",
              "      <td>v41690975</td>\n",
              "      <td>2.4</td>\n",
              "      <td>142.6</td>\n",
              "      <td>NaN</td>\n",
              "      <td>NaN</td>\n",
              "      <td>NaN</td>\n",
              "      <td>1</td>\n",
              "    </tr>\n",
              "    <tr>\n",
              "      <th>943785</th>\n",
              "      <td>2018</td>\n",
              "      <td>01</td>\n",
              "      <td>2018-01</td>\n",
              "      <td>Canada</td>\n",
              "      <td>2016A000011124</td>\n",
              "      <td>Meat</td>\n",
              "      <td>2002=100</td>\n",
              "      <td>17</td>\n",
              "      <td>units</td>\n",
              "      <td>0</td>\n",
              "      <td>v41690976</td>\n",
              "      <td>2.5</td>\n",
              "      <td>156.2</td>\n",
              "      <td>NaN</td>\n",
              "      <td>NaN</td>\n",
              "      <td>NaN</td>\n",
              "      <td>1</td>\n",
              "    </tr>\n",
              "    <tr>\n",
              "      <th>943786</th>\n",
              "      <td>2018</td>\n",
              "      <td>01</td>\n",
              "      <td>2018-01</td>\n",
              "      <td>Canada</td>\n",
              "      <td>2016A000011124</td>\n",
              "      <td>Fresh or frozen meat (excluding poultry)</td>\n",
              "      <td>2002=100</td>\n",
              "      <td>17</td>\n",
              "      <td>units</td>\n",
              "      <td>0</td>\n",
              "      <td>v41690977</td>\n",
              "      <td>2.6</td>\n",
              "      <td>164.2</td>\n",
              "      <td>NaN</td>\n",
              "      <td>NaN</td>\n",
              "      <td>NaN</td>\n",
              "      <td>1</td>\n",
              "    </tr>\n",
              "  </tbody>\n",
              "</table>\n",
              "</div>"
            ],
            "text/plain": [
              "        year month REF_DATE     GEO  ... STATUS SYMBOL TERMINATED  DECIMALS\n",
              "943782  2018    01  2018-01  Canada  ...    NaN    NaN        NaN         1\n",
              "943783  2018    01  2018-01  Canada  ...    NaN    NaN        NaN         1\n",
              "943784  2018    01  2018-01  Canada  ...    NaN    NaN        NaN         1\n",
              "943785  2018    01  2018-01  Canada  ...    NaN    NaN        NaN         1\n",
              "943786  2018    01  2018-01  Canada  ...    NaN    NaN        NaN         1\n",
              "\n",
              "[5 rows x 17 columns]"
            ]
          },
          "metadata": {},
          "execution_count": 6
        }
      ]
    },
    {
      "cell_type": "markdown",
      "metadata": {
        "id": "iwoqn0PqssZr"
      },
      "source": [
        "## Revision"
      ]
    },
    {
      "cell_type": "code",
      "metadata": {
        "id": "Z1h-Bwe4zN1a"
      },
      "source": [
        "new3_df2[0:60]"
      ],
      "execution_count": null,
      "outputs": []
    },
    {
      "cell_type": "markdown",
      "metadata": {
        "id": "OcORKd8z0NIj"
      },
      "source": [
        "It is the detailed base"
      ]
    },
    {
      "cell_type": "code",
      "metadata": {
        "id": "XiKiPYHTkwBF"
      },
      "source": [
        "new3_df2.dtypes"
      ],
      "execution_count": null,
      "outputs": []
    },
    {
      "cell_type": "code",
      "metadata": {
        "id": "3wdq0h8UZA-L"
      },
      "source": [
        "(new3_df2['Products and product groups'].value_counts())"
      ],
      "execution_count": null,
      "outputs": []
    },
    {
      "cell_type": "markdown",
      "metadata": {
        "id": "UbKoZzAayH0B"
      },
      "source": [
        "## Fouth filter (General Base)"
      ]
    },
    {
      "cell_type": "code",
      "metadata": {
        "colab": {
          "base_uri": "https://localhost:8080/",
          "height": 377
        },
        "id": "Q6pHeMTT06oV",
        "outputId": "8c6f9273-804b-4758-c06c-7225e107ae5d"
      },
      "source": [
        "new4_df2 = new3_df2[\n",
        "                    ((new3_df2['Products and product groups'] == \"All-items\")|\n",
        "                     (new3_df2['Products and product groups'] == \"Food\")|\n",
        "                     (new3_df2['Products and product groups'] == \"Shelter\")|\n",
        "                     (new3_df2['Products and product groups'] == \"Household operations, furnishings and equipment\")|\n",
        "                     (new3_df2['Products and product groups'] == \"Clothing and footwear\")|\n",
        "                     (new3_df2['Products and product groups'] == \"Transportation\")|\n",
        "                     (new3_df2['Products and product groups'] == \"Health and personal care\")|\n",
        "                     (new3_df2['Products and product groups'] == \"Recreation, education and reading\")|\n",
        "                     (new3_df2['Products and product groups'] == \"Alcoholic beverages, tobacco products and recreational cannabis\")|\n",
        "                     (new3_df2['Products and product groups'] == \"All-items excluding food\")|\n",
        "                     (new3_df2['Products and product groups'] == \"All-items excluding food and energy\"))]\n",
        "\n",
        "new4_df2.head()"
      ],
      "execution_count": 7,
      "outputs": [
        {
          "output_type": "execute_result",
          "data": {
            "text/html": [
              "<div>\n",
              "<style scoped>\n",
              "    .dataframe tbody tr th:only-of-type {\n",
              "        vertical-align: middle;\n",
              "    }\n",
              "\n",
              "    .dataframe tbody tr th {\n",
              "        vertical-align: top;\n",
              "    }\n",
              "\n",
              "    .dataframe thead th {\n",
              "        text-align: right;\n",
              "    }\n",
              "</style>\n",
              "<table border=\"1\" class=\"dataframe\">\n",
              "  <thead>\n",
              "    <tr style=\"text-align: right;\">\n",
              "      <th></th>\n",
              "      <th>year</th>\n",
              "      <th>month</th>\n",
              "      <th>REF_DATE</th>\n",
              "      <th>GEO</th>\n",
              "      <th>DGUID</th>\n",
              "      <th>Products and product groups</th>\n",
              "      <th>UOM</th>\n",
              "      <th>UOM_ID</th>\n",
              "      <th>SCALAR_FACTOR</th>\n",
              "      <th>SCALAR_ID</th>\n",
              "      <th>VECTOR</th>\n",
              "      <th>COORDINATE</th>\n",
              "      <th>VALUE</th>\n",
              "      <th>STATUS</th>\n",
              "      <th>SYMBOL</th>\n",
              "      <th>TERMINATED</th>\n",
              "      <th>DECIMALS</th>\n",
              "    </tr>\n",
              "  </thead>\n",
              "  <tbody>\n",
              "    <tr>\n",
              "      <th>943782</th>\n",
              "      <td>2018</td>\n",
              "      <td>01</td>\n",
              "      <td>2018-01</td>\n",
              "      <td>Canada</td>\n",
              "      <td>2016A000011124</td>\n",
              "      <td>All-items</td>\n",
              "      <td>2002=100</td>\n",
              "      <td>17</td>\n",
              "      <td>units</td>\n",
              "      <td>0</td>\n",
              "      <td>v41690973</td>\n",
              "      <td>2.200</td>\n",
              "      <td>131.7</td>\n",
              "      <td>NaN</td>\n",
              "      <td>NaN</td>\n",
              "      <td>NaN</td>\n",
              "      <td>1</td>\n",
              "    </tr>\n",
              "    <tr>\n",
              "      <th>943783</th>\n",
              "      <td>2018</td>\n",
              "      <td>01</td>\n",
              "      <td>2018-01</td>\n",
              "      <td>Canada</td>\n",
              "      <td>2016A000011124</td>\n",
              "      <td>Food</td>\n",
              "      <td>2002=100</td>\n",
              "      <td>17</td>\n",
              "      <td>units</td>\n",
              "      <td>0</td>\n",
              "      <td>v41690974</td>\n",
              "      <td>2.300</td>\n",
              "      <td>144.7</td>\n",
              "      <td>NaN</td>\n",
              "      <td>NaN</td>\n",
              "      <td>NaN</td>\n",
              "      <td>1</td>\n",
              "    </tr>\n",
              "    <tr>\n",
              "      <th>943889</th>\n",
              "      <td>2018</td>\n",
              "      <td>01</td>\n",
              "      <td>2018-01</td>\n",
              "      <td>Canada</td>\n",
              "      <td>2016A000011124</td>\n",
              "      <td>Shelter</td>\n",
              "      <td>2002=100</td>\n",
              "      <td>17</td>\n",
              "      <td>units</td>\n",
              "      <td>0</td>\n",
              "      <td>v41691050</td>\n",
              "      <td>2.790</td>\n",
              "      <td>139.7</td>\n",
              "      <td>NaN</td>\n",
              "      <td>NaN</td>\n",
              "      <td>NaN</td>\n",
              "      <td>1</td>\n",
              "    </tr>\n",
              "    <tr>\n",
              "      <th>943906</th>\n",
              "      <td>2018</td>\n",
              "      <td>01</td>\n",
              "      <td>2018-01</td>\n",
              "      <td>Canada</td>\n",
              "      <td>2016A000011124</td>\n",
              "      <td>Household operations, furnishings and equipment</td>\n",
              "      <td>2002=100</td>\n",
              "      <td>17</td>\n",
              "      <td>units</td>\n",
              "      <td>0</td>\n",
              "      <td>v41691067</td>\n",
              "      <td>2.960</td>\n",
              "      <td>122.4</td>\n",
              "      <td>NaN</td>\n",
              "      <td>NaN</td>\n",
              "      <td>NaN</td>\n",
              "      <td>1</td>\n",
              "    </tr>\n",
              "    <tr>\n",
              "      <th>943960</th>\n",
              "      <td>2018</td>\n",
              "      <td>01</td>\n",
              "      <td>2018-01</td>\n",
              "      <td>Canada</td>\n",
              "      <td>2016A000011124</td>\n",
              "      <td>Clothing and footwear</td>\n",
              "      <td>2002=100</td>\n",
              "      <td>17</td>\n",
              "      <td>units</td>\n",
              "      <td>0</td>\n",
              "      <td>v41691108</td>\n",
              "      <td>2.139</td>\n",
              "      <td>91.7</td>\n",
              "      <td>NaN</td>\n",
              "      <td>NaN</td>\n",
              "      <td>NaN</td>\n",
              "      <td>1</td>\n",
              "    </tr>\n",
              "  </tbody>\n",
              "</table>\n",
              "</div>"
            ],
            "text/plain": [
              "        year month REF_DATE     GEO  ... STATUS SYMBOL TERMINATED  DECIMALS\n",
              "943782  2018    01  2018-01  Canada  ...    NaN    NaN        NaN         1\n",
              "943783  2018    01  2018-01  Canada  ...    NaN    NaN        NaN         1\n",
              "943889  2018    01  2018-01  Canada  ...    NaN    NaN        NaN         1\n",
              "943906  2018    01  2018-01  Canada  ...    NaN    NaN        NaN         1\n",
              "943960  2018    01  2018-01  Canada  ...    NaN    NaN        NaN         1\n",
              "\n",
              "[5 rows x 17 columns]"
            ]
          },
          "metadata": {},
          "execution_count": 7
        }
      ]
    },
    {
      "cell_type": "code",
      "metadata": {
        "id": "gYsqwP1U9hXS"
      },
      "source": [
        "(new4_df2['REF_DATE'].value_counts()).sort_index(level=0)"
      ],
      "execution_count": null,
      "outputs": []
    },
    {
      "cell_type": "markdown",
      "metadata": {
        "id": "coopiDVXz3Zq"
      },
      "source": [
        "## Fiveth filter (Division)"
      ]
    },
    {
      "cell_type": "code",
      "metadata": {
        "id": "H54Uta4j_nlK"
      },
      "source": [
        "column = [\"01\",\"02\",\"03\",\"04\",\"05\",\"06\",\"07\",\"08\",\"09\",\"10\",\"11\",\"12\"]\n",
        "row = [\"All-items\",\"Food\",\"Shelter\",\n",
        "       \"Household operations, furnishings and equipment\",\n",
        "       \"Clothing and footwear\",\"Transportation\",\"Health and personal care\",\n",
        "       \"Recreation, education and reading\",\n",
        "       \"Alcoholic beverages, tobacco products and recreational cannabis\",\n",
        "       \"All-items excluding food\",\"All-items excluding food and energy\"]"
      ],
      "execution_count": 8,
      "outputs": []
    },
    {
      "cell_type": "markdown",
      "metadata": {
        "id": "4TgLIfgAUlQ0"
      },
      "source": [
        "Reduce the code."
      ]
    },
    {
      "cell_type": "code",
      "metadata": {
        "id": "UQHMToCjFAyO"
      },
      "source": [
        "def localiza(a,b):\n",
        "  d = ((a[\"Products and product groups\"] == b) & (a[\"month\"] == \"01\"))\n",
        "  c = a[(d)][\"VALUE\"].values[0]\n",
        "  return c"
      ],
      "execution_count": null,
      "outputs": []
    },
    {
      "cell_type": "code",
      "metadata": {
        "id": "wwELGQNyVWK2"
      },
      "source": [
        "def Data5 (a,c):\n",
        "  a = new4_df2[new4_df2.year == c]\n",
        "  v=pd.DataFrame({\"Value\":[0,0,0,0,0,0,0,0,0,0,0]},index=row)\n",
        "  for i in row:\n",
        "    L = localiza(a,i)\n",
        "    v.loc[i] = L\n",
        "  for i in np.arange(len(a)):\n",
        "    a[\"VALUE\"].values[i] = (a[\"VALUE\"].values[i]/v.loc[(a[\"Products and product groups\"].values[i])].values[0])*100\n",
        "  return a"
      ],
      "execution_count": null,
      "outputs": []
    },
    {
      "cell_type": "markdown",
      "metadata": {
        "id": "SUq0kfREUYux"
      },
      "source": [
        "### 2018"
      ]
    },
    {
      "cell_type": "code",
      "metadata": {
        "id": "mHQde_p_Wza6"
      },
      "source": [
        "df2_2018 = Data5(\"df2_2018\",\"2018\")"
      ],
      "execution_count": null,
      "outputs": []
    },
    {
      "cell_type": "code",
      "metadata": {
        "id": "ChkPvdmsTlOv"
      },
      "source": [
        "df2_2018.head(60)"
      ],
      "execution_count": null,
      "outputs": []
    },
    {
      "cell_type": "markdown",
      "metadata": {
        "id": "AHWaK67RXjoa"
      },
      "source": [
        "### 2019"
      ]
    },
    {
      "cell_type": "code",
      "metadata": {
        "id": "eeAIAw0lXlGa"
      },
      "source": [
        "df2_2019 = Data5(\"df2_2019\",\"2019\")"
      ],
      "execution_count": null,
      "outputs": []
    },
    {
      "cell_type": "code",
      "metadata": {
        "id": "hFpz-YceX255"
      },
      "source": [
        "df2_2019.head(60)"
      ],
      "execution_count": null,
      "outputs": []
    },
    {
      "cell_type": "markdown",
      "metadata": {
        "id": "4MgKg8RnYEYQ"
      },
      "source": [
        "### 2020"
      ]
    },
    {
      "cell_type": "code",
      "metadata": {
        "id": "NCXyvruWYDp8"
      },
      "source": [
        "df2_2020 = Data5(\"df2_2020\",\"2020\")"
      ],
      "execution_count": null,
      "outputs": []
    },
    {
      "cell_type": "code",
      "metadata": {
        "id": "9Ol5xkuNYJDd"
      },
      "source": [
        "df2_2020.head(60)"
      ],
      "execution_count": null,
      "outputs": []
    },
    {
      "cell_type": "markdown",
      "metadata": {
        "id": "QYYJjQyWYMly"
      },
      "source": [
        "### 2021"
      ]
    },
    {
      "cell_type": "code",
      "metadata": {
        "id": "vvXoj7GIYNCH"
      },
      "source": [
        "df2_2021 = Data5(\"df2_2021\",\"2021\")"
      ],
      "execution_count": null,
      "outputs": []
    },
    {
      "cell_type": "code",
      "metadata": {
        "id": "_qg62fFLYM4M"
      },
      "source": [
        "df2_2021.head(60)"
      ],
      "execution_count": null,
      "outputs": []
    },
    {
      "cell_type": "markdown",
      "metadata": {
        "id": "0Emb3hcLzeYy"
      },
      "source": [
        "### 2018 to 2021 Norm"
      ]
    },
    {
      "cell_type": "code",
      "metadata": {
        "id": "3uDV0mh30jj3"
      },
      "source": [
        "MAPI_18_21 = new4_df2"
      ],
      "execution_count": 9,
      "outputs": []
    },
    {
      "cell_type": "code",
      "metadata": {
        "id": "M5PLcE1m0p5r"
      },
      "source": [
        "MAPI_18_21['REF_DATE'] = MAPI_18_21['REF_DATE']+\"-28\"\n",
        "MAPI_18_21['REF_DATE'] = pd.to_datetime(MAPI_18_21['REF_DATE'],errors='coerce')\n",
        "MAPI_18_21.head()"
      ],
      "execution_count": null,
      "outputs": []
    },
    {
      "cell_type": "code",
      "metadata": {
        "id": "qJx8Ia483UCe"
      },
      "source": [
        "MAPI_18_21.dtypes"
      ],
      "execution_count": null,
      "outputs": []
    },
    {
      "cell_type": "code",
      "metadata": {
        "id": "NJIsVJTO3g0G"
      },
      "source": [
        "(MAPI_18_21['REF_DATE'].value_counts()).sort_index(level=0)"
      ],
      "execution_count": null,
      "outputs": []
    },
    {
      "cell_type": "code",
      "metadata": {
        "id": "iXEuNLlTzdnA"
      },
      "source": [
        "def localiza(a,b):\n",
        "  d = ((a[\"Products and product groups\"] == b) & (a[\"month\"] == \"01\") & (a[\"year\"] == \"2018\"))\n",
        "  c = a[(d)][\"VALUE\"].values[0]\n",
        "  return c"
      ],
      "execution_count": 15,
      "outputs": []
    },
    {
      "cell_type": "code",
      "metadata": {
        "id": "cFzjyBwzzqo9"
      },
      "source": [
        "def Data5 (a):\n",
        "  a = MAPI_18_21\n",
        "  v = pd.DataFrame({\"Value\":[0,0,0,0,0,0,0,0,0,0,0]},index=row)\n",
        "  for i in row:\n",
        "    L = localiza(a,i)\n",
        "    v.loc[i] = L\n",
        "  for i in np.arange(len(a)):\n",
        "    a[\"VALUE\"].values[i] = (a[\"VALUE\"].values[i]/v.loc[(a[\"Products and product groups\"].values[i])].values[0])*100\n",
        "  return a"
      ],
      "execution_count": 16,
      "outputs": []
    },
    {
      "cell_type": "code",
      "metadata": {
        "id": "HKFt6WHf1ELH"
      },
      "source": [
        "MAPI_N_18_21 = Data5(\"MAPI_N_18_21\")"
      ],
      "execution_count": 17,
      "outputs": []
    },
    {
      "cell_type": "markdown",
      "metadata": {
        "id": "MUAyoJ6JyHic"
      },
      "source": [
        "## Make databases for to visualization"
      ]
    },
    {
      "cell_type": "code",
      "metadata": {
        "id": "7MuaWPSinnOX"
      },
      "source": [
        "df2_2018.to_csv('MAPI_18.cvs', index=False)\n",
        "df2_2019.to_csv('MAPI_19.cvs', index=False)\n",
        "df2_2020.to_csv('MAPI_20.cvs', index=False)\n",
        "df2_2021.to_csv('MAPI_21.cvs', index=False)\n",
        "\n",
        "MAPI_18_21.to_csv('MAPI_18_21.cvs', index=False)\n",
        "MAPI_N_18_21.to_csv('MAPI_N_18_21.cvs', index=False)"
      ],
      "execution_count": 18,
      "outputs": []
    }
  ]
}