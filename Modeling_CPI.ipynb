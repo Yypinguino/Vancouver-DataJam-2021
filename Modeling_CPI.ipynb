{
  "nbformat": 4,
  "nbformat_minor": 0,
  "metadata": {
    "colab": {
      "name": "Modeling_CPI.ipynb",
      "provenance": []
    },
    "kernelspec": {
      "name": "python3",
      "display_name": "Python 3"
    },
    "language_info": {
      "name": "python"
    }
  },
  "cells": [
    {
      "cell_type": "markdown",
      "metadata": {
        "id": "OFStqYzwbNPt"
      },
      "source": [
        "# Boot Data"
      ]
    },
    {
      "cell_type": "code",
      "metadata": {
        "id": "ZKpZvHgLYSVv"
      },
      "source": [
        "P_G_S = \" Transportation \"\n",
        "z = 5\n",
        "epochs = 5000"
      ],
      "execution_count": 1,
      "outputs": []
    },
    {
      "cell_type": "code",
      "metadata": {
        "id": "X0O1daOk5CfB"
      },
      "source": [
        "column = [\"01\",\"02\",\"03\",\"04\",\"05\",\"06\",\"07\",\"08\",\"09\",\"10\",\"11\",\"12\"]\n",
        "row = [\"All-items\",\"Food\",\"Shelter\",\n",
        "       \"Household operations, furnishings and equipment\",\n",
        "       \"Clothing and footwear\",\"Transportation\",\"Health and personal care\",\n",
        "       \"Recreation, education and reading\",\n",
        "       \"Alcoholic beverages, tobacco products and recreational cannabis\",\n",
        "       \"All-items excluding food\",\"All-items excluding food and energy\"]"
      ],
      "execution_count": 2,
      "outputs": []
    },
    {
      "cell_type": "markdown",
      "metadata": {
        "id": "Zgvy6r7x1wl3"
      },
      "source": [
        "## Run of the packages"
      ]
    },
    {
      "cell_type": "code",
      "metadata": {
        "id": "JMaND-VtsjNA",
        "colab": {
          "base_uri": "https://localhost:8080/"
        },
        "outputId": "7be9eeca-11e7-4d87-dba5-b59eaa27a15b"
      },
      "source": [
        "# Tratamiento de datos\n",
        "# ==============================================================================\n",
        "import pandas as pd\n",
        "import numpy as np\n",
        "from math import log\n",
        "import math\n",
        "\n",
        "# Gráficos\n",
        "# ==============================================================================\n",
        "import matplotlib.pyplot as plt\n",
        "from matplotlib import style\n",
        "import seaborn as sns\n",
        "\n",
        "# Preprocesado y modelado\n",
        "# ==============================================================================\n",
        "from scipy.stats import pearsonr\n",
        "from sklearn.linear_model import LinearRegression\n",
        "from sklearn.model_selection import train_test_split\n",
        "from sklearn.metrics import r2_score\n",
        "from sklearn.metrics import mean_squared_error\n",
        "import statsmodels.api as sm\n",
        "import statsmodels.formula.api as smf\n",
        "\n",
        "# Configuración matplotlib\n",
        "# ==============================================================================\n",
        "plt.rcParams['image.cmap'] = \"bwr\"\n",
        "#plt.rcParams['figure.dpi'] = \"100\"\n",
        "plt.rcParams['savefig.bbox'] = \"tight\"\n",
        "style.use('ggplot') or plt.style.use('ggplot')\n",
        "\n",
        "# Configuración warnings\n",
        "# ==============================================================================\n",
        "import warnings\n",
        "warnings.filterwarnings('ignore')"
      ],
      "execution_count": 3,
      "outputs": [
        {
          "output_type": "stream",
          "name": "stderr",
          "text": [
            "/usr/local/lib/python3.7/dist-packages/statsmodels/tools/_testing.py:19: FutureWarning: pandas.util.testing is deprecated. Use the functions in the public API at pandas.testing instead.\n",
            "  import pandas.util.testing as tm\n"
          ]
        }
      ]
    },
    {
      "cell_type": "markdown",
      "metadata": {
        "id": "qWTEoksh12U0"
      },
      "source": [
        "## Run the database"
      ]
    },
    {
      "cell_type": "code",
      "metadata": {
        "id": "WueicE3PyeTR"
      },
      "source": [
        "MAPI_N_18_21 = pd.read_csv(\"MAPI_N_18_21.cvs\")\n",
        "#MAPI_N_18_21.head()"
      ],
      "execution_count": 4,
      "outputs": []
    },
    {
      "cell_type": "code",
      "metadata": {
        "id": "wO14ekYHyhEC"
      },
      "source": [
        "df = MAPI_N_18_21[[\"year\",\"month\",\"REF_DATE\",\"Products and product groups\",\"COORDINATE\",\"VALUE\"]]\n",
        "#df.tail()"
      ],
      "execution_count": 5,
      "outputs": []
    },
    {
      "cell_type": "markdown",
      "metadata": {
        "id": "XXj9cALs2S06"
      },
      "source": [
        "## Add pandemic variables"
      ]
    },
    {
      "cell_type": "code",
      "metadata": {
        "id": "IWCorwIBzW7C"
      },
      "source": [
        "df[\"pandemic\"] = 1"
      ],
      "execution_count": 6,
      "outputs": []
    },
    {
      "cell_type": "code",
      "metadata": {
        "id": "Rpchp0zpzfh0"
      },
      "source": [
        "for i in np.arange(len(df)):\n",
        "  if (df[\"year\"][i] < 2020):\n",
        "    df[\"pandemic\"][i]=0\n",
        "df[\"pandemic\"][((df[\"year\"] == 2020) & (df[\"month\"] == 1))] = 0"
      ],
      "execution_count": 7,
      "outputs": []
    },
    {
      "cell_type": "markdown",
      "metadata": {
        "id": "o2KP9W6t3hEj"
      },
      "source": [
        "## Preparation for the model. This is where you specify what \"goods or service\" you want to project."
      ]
    },
    {
      "cell_type": "code",
      "metadata": {
        "id": "TFT7S78v3gQt"
      },
      "source": [
        "rm = df[(df[\"Products and product groups\"] == row[z])]\n",
        "rm['Data'] = np.arange(len(rm))\n",
        "#rm.head()"
      ],
      "execution_count": 8,
      "outputs": []
    },
    {
      "cell_type": "code",
      "metadata": {
        "id": "4wdUrhmO06xD"
      },
      "source": [
        "rm.index = np.arange(len(rm))"
      ],
      "execution_count": 9,
      "outputs": []
    },
    {
      "cell_type": "code",
      "metadata": {
        "id": "5bsMBwIewfUU"
      },
      "source": [
        "rm[\"pa_col\"] = 1"
      ],
      "execution_count": 10,
      "outputs": []
    },
    {
      "cell_type": "code",
      "metadata": {
        "id": "BrrmrQwRwX1g"
      },
      "source": [
        "for i in np.arange(len(rm)):\n",
        "  if (rm[\"pandemic\"][i] == 1):\n",
        "    rm[\"pa_col\"][i] = \"red\"\n",
        "  else:\n",
        "    rm[\"pa_col\"][i] = \"green\""
      ],
      "execution_count": 11,
      "outputs": []
    },
    {
      "cell_type": "markdown",
      "metadata": {
        "id": "OcMaSpqsBH6P"
      },
      "source": [
        "## Regression model"
      ]
    },
    {
      "cell_type": "code",
      "metadata": {
        "id": "TDOdcpPrbeYk"
      },
      "source": [
        ""
      ],
      "execution_count": 11,
      "outputs": []
    },
    {
      "cell_type": "code",
      "metadata": {
        "colab": {
          "base_uri": "https://localhost:8080/"
        },
        "id": "PD42u5y79kA3",
        "outputId": "5add2dd5-339f-4fe3-ccfb-67a65c3bde51"
      },
      "source": [
        "# Correlación lineal entre las dos variables\n",
        "# ==============================================================================\n",
        "corr_test = pearsonr(x = rm.Data, y = rm.VALUE)\n",
        "print(\"Coeficiente de correlación de Pearson: \", corr_test[0])\n",
        "print(\"P-value: \", corr_test[1])"
      ],
      "execution_count": 12,
      "outputs": [
        {
          "output_type": "stream",
          "name": "stdout",
          "text": [
            "Coeficiente de correlación de Pearson:  0.7344264690158194\n",
            "P-value:  1.3927239846278462e-08\n"
          ]
        }
      ]
    },
    {
      "cell_type": "code",
      "metadata": {
        "colab": {
          "base_uri": "https://localhost:8080/"
        },
        "id": "_vTo3Gv8_H5N",
        "outputId": "fad0a97c-380d-403f-99cd-9a16232b3bee"
      },
      "source": [
        "# División de los datos en train y test\n",
        "# ==============================================================================\n",
        "X = rm[['Data']]\n",
        "y = rm.VALUE\n",
        "\n",
        "X_train, X_test, y_train, y_test = train_test_split(\n",
        "                                        X.values.reshape(-1,1),\n",
        "                                        y.values.reshape(-1,1),\n",
        "                                        train_size   = 0.8,\n",
        "                                        random_state = 1234,\n",
        "                                        shuffle      = True\n",
        "                                    )\n",
        "\n",
        "# Creación del modelo\n",
        "# ==============================================================================\n",
        "modelo = LinearRegression()\n",
        "modelo.fit(X = X_train.reshape(-1, 1), y = y_train)"
      ],
      "execution_count": 13,
      "outputs": [
        {
          "output_type": "execute_result",
          "data": {
            "text/plain": [
              "LinearRegression(copy_X=True, fit_intercept=True, n_jobs=None, normalize=False)"
            ]
          },
          "metadata": {},
          "execution_count": 13
        }
      ]
    },
    {
      "cell_type": "code",
      "metadata": {
        "colab": {
          "base_uri": "https://localhost:8080/"
        },
        "id": "YtN8vt4q_cQ8",
        "outputId": "19459cee-ca1d-4a2d-c347-d49b87a4887c"
      },
      "source": [
        "# Información del modelo\n",
        "# ==============================================================================\n",
        "print(\"Intercept:\", modelo.intercept_)\n",
        "print(\"Coeficiente:\", list(zip(X.columns, modelo.coef_.flatten(), )))\n",
        "print(\"Coeficiente de determinación R^2:\", modelo.score(X, y))"
      ],
      "execution_count": 14,
      "outputs": [
        {
          "output_type": "stream",
          "name": "stdout",
          "text": [
            "Intercept: [100.09090115]\n",
            "Coeficiente: [('Data', 0.17261866355511662)]\n",
            "Coeficiente de determinación R^2: 0.5376982196983807\n"
          ]
        }
      ]
    },
    {
      "cell_type": "code",
      "metadata": {
        "id": "Hj_oneW5y9FZ"
      },
      "source": [
        "Intercepto = modelo.intercept_\n",
        "Coeficiente = modelo.coef_.flatten()"
      ],
      "execution_count": 15,
      "outputs": []
    },
    {
      "cell_type": "code",
      "metadata": {
        "colab": {
          "base_uri": "https://localhost:8080/"
        },
        "id": "OreRZw3EArl5",
        "outputId": "65a34924-a79b-4b37-a700-a9bb3cdba156"
      },
      "source": [
        "# Error de test del modelo \n",
        "# ==============================================================================\n",
        "predicciones = modelo.predict(X = X_test)\n",
        "print(predicciones[0:3,])\n",
        "\n",
        "rmse = mean_squared_error(\n",
        "        y_true  = y_test,\n",
        "        y_pred  = predicciones,\n",
        "        squared = False\n",
        "       )\n",
        "print(\"\")\n",
        "print(f\"El error (rmse) de test es: {rmse}\")"
      ],
      "execution_count": 16,
      "outputs": [
        {
          "output_type": "stream",
          "name": "stdout",
          "text": [
            "[[105.0968424 ]\n",
            " [103.02541844]\n",
            " [105.78731705]]\n",
            "\n",
            "El error (rmse) de test es: 1.7376194847834854\n"
          ]
        }
      ]
    },
    {
      "cell_type": "markdown",
      "metadata": {
        "id": "R1EEz9VBpTX8"
      },
      "source": [
        "## Adjustment"
      ]
    },
    {
      "cell_type": "code",
      "metadata": {
        "id": "KZps3YZwWm6a"
      },
      "source": [
        "A = np.array(Intercepto+Coeficiente*rm.Data)"
      ],
      "execution_count": 17,
      "outputs": []
    },
    {
      "cell_type": "code",
      "metadata": {
        "id": "I5-i_ioNFit8"
      },
      "source": [
        "rm['Pred_r'] = A\n",
        "#.head()"
      ],
      "execution_count": 18,
      "outputs": []
    },
    {
      "cell_type": "markdown",
      "metadata": {
        "id": "dR5qrp8k9kj8"
      },
      "source": [
        "### Adjustment (CM)"
      ]
    },
    {
      "cell_type": "code",
      "metadata": {
        "id": "rNJGXriiZJfa"
      },
      "source": [
        "rm['CM'] = rm['VALUE'] - rm['Pred_r']"
      ],
      "execution_count": 19,
      "outputs": []
    },
    {
      "cell_type": "markdown",
      "metadata": {
        "id": "w19SuT-R3c6V"
      },
      "source": [
        "### Adjustment 1 (CM1)"
      ]
    },
    {
      "cell_type": "code",
      "metadata": {
        "id": "4bK29a090ciP"
      },
      "source": [
        "rm[\"CM1\"] = rm.CM - rm.CM.mean()"
      ],
      "execution_count": 20,
      "outputs": []
    },
    {
      "cell_type": "markdown",
      "metadata": {
        "id": "yPTVif7o7F84"
      },
      "source": [
        "### Adjustment 2 (CM2)"
      ]
    },
    {
      "cell_type": "code",
      "metadata": {
        "id": "NjK9vfsm6Q2z"
      },
      "source": [
        "rm[\"CM2\"]=rm.CM1-2*rm.CM1.min()"
      ],
      "execution_count": 21,
      "outputs": []
    },
    {
      "cell_type": "markdown",
      "metadata": {
        "id": "2Qt-2UkeAoF5"
      },
      "source": [
        "## Process graph (with measurement change)"
      ]
    },
    {
      "cell_type": "code",
      "metadata": {
        "id": "eIfpq-n06qX1"
      },
      "source": [
        "M = np.repeat(-2*rm.CM1.min(), len(rm.Data), axis=0)\n",
        "M = M.astype(np.float64)"
      ],
      "execution_count": 22,
      "outputs": []
    },
    {
      "cell_type": "code",
      "metadata": {
        "colab": {
          "base_uri": "https://localhost:8080/",
          "height": 654
        },
        "id": "LJENJsWjbYK2",
        "outputId": "07c6fb5b-924b-4e43-9ea7-1c044b2ec3f7"
      },
      "source": [
        "fig, ax = plt.subplots(figsize=(18, 10.84))\n",
        "\n",
        "ax.scatter(x=rm.Data,y=rm.CM2, s=rm.month*20, marker='o', color = np.array(rm[\"pa_col\"]))\n",
        "ax.plot(rm.Data, M, linestyle='-', color='blue')"
      ],
      "execution_count": 23,
      "outputs": [
        {
          "output_type": "execute_result",
          "data": {
            "text/plain": [
              "[<matplotlib.lines.Line2D at 0x7fd88cefb350>]"
            ]
          },
          "metadata": {},
          "execution_count": 23
        },
        {
          "output_type": "display_data",
          "data": {
            "image/png": "[encoded data removed]",
            "text/plain": [
              "<Figure size 1296x780.48 with 1 Axes>"
            ]
          },
          "metadata": {}
        }
      ]
    },
    {
      "cell_type": "markdown",
      "metadata": {
        "id": "gnpY56-EA-mz"
      },
      "source": [
        "## Model"
      ]
    },
    {
      "cell_type": "markdown",
      "metadata": {
        "id": "80TJufY68QLU"
      },
      "source": [
        "### Function to reduce times"
      ]
    },
    {
      "cell_type": "code",
      "metadata": {
        "id": "yfhhcfFiP00f"
      },
      "source": [
        "def MC (Dato, Obs, opc, Esp, Var) :\n",
        "  if (opc==1):\n",
        "    y= Esp + (Dato - Esp)/Obs #Esperanza\n",
        "  else:\n",
        "    if (Obs>1):\n",
        "      y= (Obs - 1)/Obs*Var + (Dato-Esp)**2/Obs - 2*(Dato-Esp)/(Obs*(Obs - 1)) + ((Dato-Esp)/(Obs-1))**2 #Varianza\n",
        "    else:\n",
        "      y=0\n",
        "  return y"
      ],
      "execution_count": 24,
      "outputs": []
    },
    {
      "cell_type": "markdown",
      "metadata": {
        "id": "_ARP2rfrhgfc"
      },
      "source": [
        "### Occupy CM2, here is i_F"
      ]
    },
    {
      "cell_type": "code",
      "metadata": {
        "id": "_XWJzozIWUCm"
      },
      "source": [
        "#-----i_F = es el interes creado bajo la filtracion-----#\n",
        "g = rm.CM2\n",
        "n = len(g)-1\n",
        "\n",
        "rm[\"i_F\"] = np.array(np.arange(n+1))\n",
        "rm[\"i_F\"] = rm[\"i_F\"].values.astype(np.float64)\n",
        "\n",
        "for i in np.arange(n):\n",
        "  rm[\"i_F\"][i+1]=g[i+1]/g[i]-1\n",
        "\n",
        "i_F = rm[\"i_F\"]\n",
        "i_F=rm[\"i_F\"].drop(rm[\"i_F\"].index[0])\n",
        "\n",
        "E_i=i_F.mean()\n",
        "V_i=i_F.var()"
      ],
      "execution_count": 25,
      "outputs": []
    },
    {
      "cell_type": "markdown",
      "metadata": {
        "id": "2bXPHT8dBDms"
      },
      "source": [
        "### Regression to the mean model"
      ]
    },
    {
      "cell_type": "code",
      "metadata": {
        "id": "3-qZn6g2UiHh"
      },
      "source": [
        "t=16\n",
        "dt=16/48\n",
        "T=t/dt\n",
        "\n",
        "R = np.repeat(0, epochs, axis=0)\n",
        "R = R.astype(np.float64)\n",
        "\n",
        "i_f = np.repeat(0, epochs, axis=0)\n",
        "i_f = i_f.astype(np.float64)\n",
        "\n",
        "P = np.repeat(0, epochs, axis=0)\n",
        "P = P.astype(np.float64)\n",
        "\n",
        "G = np.repeat(0, t, axis=0)\n",
        "G = G.astype(np.float64)\n",
        "G[0] = i_F[1]\n",
        "G_s = np.repeat(0, t, axis=0)\n",
        "G_s = G_s.astype(np.float64)\n",
        "#D = np.arange(0, t, step = dt)\n",
        "\n",
        "for i in np.arange(epochs):\n",
        "  V_f=V_i\n",
        "  E_f=E_i\n",
        "  r_f= 1\n",
        "  i_t1 = 0\n",
        "  i_t2 = 0\n",
        "  I_F=i_F\n",
        "  for j in np.arange(T):\n",
        "    W_t=np.random.normal(0, 1, 1)\n",
        "    i_t3 = i_t2\n",
        "    i_t2 = i_t1\n",
        "    i_t1 = ( i_t2 - E_f + V_f/2 - math.sqrt(V_f/dt) * W_t ) * dt\n",
        "    r = math.exp(i_t1)\n",
        "    r_f = r_f * r\n",
        "\n",
        "    #i_t = i_t1 - i_t2\n",
        "    #js=(j+1).astype(np.int64)\n",
        "    #V_f=MC(i_t, (n + js/2), 2, E_f, V_f)\n",
        "    #E_f=MC(i_t, (n + js/2), 1, E_f, 0)\n",
        "\n",
        "    if ((j+1)%3==0):\n",
        "      i_t = i_t1 + i_t2 + i_t3\n",
        "      js=(j+1).astype(np.int64)\n",
        "      V_f=MC(i_t, (n + js/3), 2, E_f, V_f)\n",
        "      E_f=MC(i_t, (n + js/3), 1, E_f, 0)\n",
        "\n",
        "      js=(js/3-1).astype(np.int64)\n",
        "      G[js]= G[js] + (i_t - G[js])/(i+1)\n",
        "      if (i==(epochs-1)):\n",
        "        G_s[js]= i_t\n",
        "      \n",
        "    \n",
        "  R[i]= r_f\n",
        "  i_f[i]= log(r_f)\n",
        "  P[i]= g[len(g)-1] * r_f"
      ],
      "execution_count": 26,
      "outputs": []
    },
    {
      "cell_type": "markdown",
      "metadata": {
        "id": "axhRUO6TdOqg"
      },
      "source": [
        "## Adjustment 3 (G1-PPP y G2-PPP)"
      ]
    },
    {
      "cell_type": "code",
      "metadata": {
        "id": "5qw6owhASBvT"
      },
      "source": [
        "G1=G-G.mean()"
      ],
      "execution_count": 27,
      "outputs": []
    },
    {
      "cell_type": "code",
      "metadata": {
        "id": "_XWg16QQ9t-1"
      },
      "source": [
        "PPP = np.repeat(0, len(G1), axis=0)\n",
        "PPP = PPP.astype(np.float64)\n",
        "PPP[0]=rm.CM2[len(rm.CM2)-1]*math.exp(G1[0])\n",
        "for i in np.arange(len(G1)-1):\n",
        "  PPP[i+1]=PPP[i]*math.exp(G1[i+1])"
      ],
      "execution_count": 28,
      "outputs": []
    },
    {
      "cell_type": "code",
      "metadata": {
        "colab": {
          "base_uri": "https://localhost:8080/",
          "height": 391
        },
        "id": "CPQMb59n9v-x",
        "outputId": "7c0d580d-54c7-4b62-967f-8df0374423f2"
      },
      "source": [
        "fig, ax = plt.subplots(figsize=(9, 6))\n",
        "\n",
        "ax.scatter(x=np.arange(len(PPP)),y=PPP, marker='o', color = \"blue\")\n",
        "ax.plot(np.arange(len(PPP)), M[0:len(PPP)], linestyle='-', color='blue')"
      ],
      "execution_count": 29,
      "outputs": [
        {
          "output_type": "execute_result",
          "data": {
            "text/plain": [
              "[<matplotlib.lines.Line2D at 0x7fd88c9e51d0>]"
            ]
          },
          "metadata": {},
          "execution_count": 29
        },
        {
          "output_type": "display_data",
          "data": {
            "image/png": "[encoded data removed]",
            "text/plain": [
              "<Figure size 648x432 with 1 Axes>"
            ]
          },
          "metadata": {}
        }
      ]
    },
    {
      "cell_type": "code",
      "metadata": {
        "id": "VjFDy5ujxmaP"
      },
      "source": [
        "PV1=PPP"
      ],
      "execution_count": 30,
      "outputs": []
    },
    {
      "cell_type": "code",
      "metadata": {
        "id": "YQoTmg9JaMDT"
      },
      "source": [
        "G2 = G_s - G_s.mean()"
      ],
      "execution_count": 31,
      "outputs": []
    },
    {
      "cell_type": "code",
      "metadata": {
        "id": "OXQwZ8hz4K8a"
      },
      "source": [
        "PPP = np.repeat(0, len(G2), axis=0)\n",
        "PPP = PPP.astype(np.float64)\n",
        "PPP[0]=rm.CM2[len(rm.CM2)-1]*math.exp(G2[0])\n",
        "for i in np.arange(len(G2)-1):\n",
        "  PPP[i+1]=PPP[i]*math.exp(G2[i+1])"
      ],
      "execution_count": 32,
      "outputs": []
    },
    {
      "cell_type": "code",
      "metadata": {
        "colab": {
          "base_uri": "https://localhost:8080/",
          "height": 391
        },
        "id": "ejUf6VMv8WZH",
        "outputId": "f49701e6-45db-4bf8-f048-098d9f0b414c"
      },
      "source": [
        "fig, ax = plt.subplots(figsize=(9, 6))\n",
        "\n",
        "ax.scatter(x=np.arange(len(PPP)),y=PPP, marker='o', color = \"blue\")\n",
        "ax.plot(np.arange(len(PPP)), M[0:len(PPP)], linestyle='-', color='blue')"
      ],
      "execution_count": 33,
      "outputs": [
        {
          "output_type": "execute_result",
          "data": {
            "text/plain": [
              "[<matplotlib.lines.Line2D at 0x7fd88c975210>]"
            ]
          },
          "metadata": {},
          "execution_count": 33
        },
        {
          "output_type": "display_data",
          "data": {
            "image/png": "[encoded data removed]",
            "text/plain": [
              "<Figure size 648x432 with 1 Axes>"
            ]
          },
          "metadata": {}
        }
      ]
    },
    {
      "cell_type": "code",
      "metadata": {
        "id": "JJbv6K4fxutv"
      },
      "source": [
        "PV2=PPP"
      ],
      "execution_count": 34,
      "outputs": []
    },
    {
      "cell_type": "markdown",
      "metadata": {
        "id": "ZHiDeXlQArbT"
      },
      "source": [
        "## Return changes and delivery chart"
      ]
    },
    {
      "cell_type": "code",
      "metadata": {
        "id": "ZIbwqh95mH9N"
      },
      "source": [
        "N_rm=rm[0:16]\n",
        "N_rm=N_rm.drop(['i_F'], axis=1)\n",
        "N_rm['Data'] = list(range(len(rm),len(rm)+16,1))\n",
        "N_rm['pa_col'] = \"blue\"\n",
        "N_rm['Pred_r'] = np.array(Intercepto+Coeficiente*N_rm.Data)\n",
        "N_rm['pandemic'] = np.repeat(1, len(N_rm), axis=0)\n",
        "N_rm.REF_DATE = pd.to_datetime([\n",
        "              '2021-09-28',\n",
        "              '2021-10-28',\n",
        "              '2021-11-28',\n",
        "              '2021-12-28',\n",
        "              '2022-01-28',\n",
        "              '2022-02-28',\n",
        "              '2022-03-28',\n",
        "              '2022-04-28',\n",
        "              '2022-05-28',\n",
        "              '2022-06-28',\n",
        "              '2022-07-28',\n",
        "              '2022-08-28',\n",
        "              '2022-09-28',\n",
        "              '2022-10-28',\n",
        "              '2022-11-28',\n",
        "              '2022-12-28'])\n",
        "N_rm['year'] = N_rm['REF_DATE'].dt.year\n",
        "N_rm['month'] = N_rm['REF_DATE'].dt.month\n",
        "#N_rm.head()"
      ],
      "execution_count": 35,
      "outputs": []
    },
    {
      "cell_type": "code",
      "metadata": {
        "id": "nStClId4dpx8"
      },
      "source": [
        "PV1=PV1+2*rm.CM1.min()+N_rm['Pred_r']\n",
        "PV2=PV2+2*rm.CM1.min()+N_rm['Pred_r']"
      ],
      "execution_count": 36,
      "outputs": []
    },
    {
      "cell_type": "code",
      "metadata": {
        "id": "OvV5RMee60dU"
      },
      "source": [
        "N_rm.VALUE = PV1\n",
        "rm2 = rm\n",
        "rm2=rm2.drop(['i_F'], axis=1)\n",
        "rm2 = pd.concat([rm2, N_rm])"
      ],
      "execution_count": 37,
      "outputs": []
    },
    {
      "cell_type": "code",
      "metadata": {
        "id": "nmB4SW67-0JF"
      },
      "source": [
        "N_rm.VALUE = PV2\n",
        "rm3 = rm\n",
        "rm3=rm3.drop(['i_F'], axis=1)\n",
        "rm3 = pd.concat([rm3, N_rm])"
      ],
      "execution_count": 38,
      "outputs": []
    },
    {
      "cell_type": "markdown",
      "metadata": {
        "id": "1ssbkx3iKY1l"
      },
      "source": [
        "## Make databases for to visualization"
      ]
    },
    {
      "cell_type": "code",
      "metadata": {
        "id": "a_WA1CQaVw3N"
      },
      "source": [
        "H = ' Pred_Expe'\n",
        "K = ' Pred_Prob'"
      ],
      "execution_count": 39,
      "outputs": []
    },
    {
      "cell_type": "code",
      "metadata": {
        "id": "oPWI4EPwKU3g"
      },
      "source": [
        "rm2.to_csv(P_G_S + H, index=False)\n",
        "rm3.to_csv(P_G_S + K , index=False)"
      ],
      "execution_count": 40,
      "outputs": []
    },
    {
      "cell_type": "code",
      "metadata": {
        "colab": {
          "base_uri": "https://localhost:8080/",
          "height": 688
        },
        "id": "kDbeQyi68EAA",
        "outputId": "58cff559-6188-4dec-9455-faf67590f897"
      },
      "source": [
        "fig, ax = plt.subplots(figsize=(18, 10.84))\n",
        "\n",
        "ax.scatter(x=rm2.Data,y=rm2.VALUE, s=rm2.month*20, marker='o', color = np.array(rm2[\"pa_col\"]))\n",
        "ax.plot(rm2.Data, rm2.Pred_r, linestyle='-', color='black')\n",
        "plt.gca().set_title('Expected Path' + P_G_S)\n",
        "plt.xlabel('Number of monthly data From Jan / 2018 to Dec / 2022')\n",
        "plt.ylabel('MAPI' + P_G_S)"
      ],
      "execution_count": 41,
      "outputs": [
        {
          "output_type": "execute_result",
          "data": {
            "text/plain": [
              "Text(0, 0.5, 'MAPI Transportation ')"
            ]
          },
          "metadata": {},
          "execution_count": 41
        },
        {
          "output_type": "display_data",
          "data": {
            "image/png": "[encoded data removed]",
            "text/plain": [
              "<Figure size 1296x780.48 with 1 Axes>"
            ]
          },
          "metadata": {}
        }
      ]
    },
    {
      "cell_type": "code",
      "metadata": {
        "colab": {
          "base_uri": "https://localhost:8080/",
          "height": 688
        },
        "id": "1CUrT9Da_InU",
        "outputId": "0aa94861-4d1e-4a14-95c6-e18ddd63e565"
      },
      "source": [
        "fig, ax = plt.subplots(figsize=(18, 10.84))\n",
        "\n",
        "ax.scatter(x=rm3.Data,y=rm3.VALUE, s=rm3.month*20, marker='o', color = np.array(rm3[\"pa_col\"]))\n",
        "ax.plot(rm3.Data, rm3.Pred_r, linestyle='-', color='black')\n",
        "\n",
        "plt.gca().set_title('Possible Path' + P_G_S)\n",
        "plt.xlabel('Number of monthly data From Jan / 2018 to Dec / 2022')\n",
        "plt.ylabel('MAPI' + P_G_S)"
      ],
      "execution_count": 42,
      "outputs": [
        {
          "output_type": "execute_result",
          "data": {
            "text/plain": [
              "Text(0, 0.5, 'MAPI Transportation ')"
            ]
          },
          "metadata": {},
          "execution_count": 42
        },
        {
          "output_type": "display_data",
          "data": {
            "image/png": "[encoded data removed]",
            "text/plain": [
              "<Figure size 1296x780.48 with 1 Axes>"
            ]
          },
          "metadata": {}
        }
      ]
    }
  ]
}